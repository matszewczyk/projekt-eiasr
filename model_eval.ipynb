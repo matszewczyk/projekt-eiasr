{
 "cells": [
  {
   "cell_type": "code",
   "execution_count": 1,
   "metadata": {
    "executionInfo": {
     "elapsed": 2805,
     "status": "ok",
     "timestamp": 1611611845845,
     "user": {
      "displayName": "Kacper Zagórski",
      "photoUrl": "",
      "userId": "01795916662025514346"
     },
     "user_tz": -60
    },
    "id": "oGRpW877zs04"
   },
   "outputs": [],
   "source": [
    "import torch\n",
    "import torch.nn as nn\n",
    "import torch.nn.functional as F\n",
    "from torch import topk\n",
    "from torch.utils.data import DataLoader, random_split\n",
    "from torch.utils.data.sampler import SubsetRandomSampler\n",
    "from torchvision import datasets, transforms, models, utils\n",
    "from torchvision.utils import make_grid\n",
    "from torch.autograd import Variable\n",
    "\n",
    "import os\n",
    "import numpy as np\n",
    "import pandas as pd\n",
    "import matplotlib.pyplot as plt\n",
    "import seaborn as sn\n",
    "from sklearn import metrics\n",
    "%matplotlib inline\n",
    "\n",
    "import time"
   ]
  },
  {
   "cell_type": "code",
   "execution_count": 2,
   "metadata": {
    "executionInfo": {
     "elapsed": 2792,
     "status": "ok",
     "timestamp": 1611611845847,
     "user": {
      "displayName": "Kacper Zagórski",
      "photoUrl": "",
      "userId": "01795916662025514346"
     },
     "user_tz": -60
    },
    "id": "cVhFh8pV0nWZ"
   },
   "outputs": [],
   "source": [
    "test_transform = transforms.Compose([\n",
    "    transforms.ToTensor(),\n",
    "    transforms.Resize((200,200)),\n",
    "    transforms.Normalize(mean=[0.485, 0.456, 0.406],\n",
    "                         std=[0.229, 0.224, 0.225])\n",
    "])\n",
    "train_transform = transforms.Compose([\n",
    "    transforms.RandomHorizontalFlip(),\n",
    "    transforms.RandomRotation(20),\n",
    "    transforms.ToTensor(),\n",
    "    transforms.Resize((200,200)),\n",
    "    transforms.Normalize(mean=[0.485, 0.456, 0.406],\n",
    "                         std=[0.229, 0.224, 0.225])\n",
    "])\n",
    "\n",
    "display_transform = transforms.Compose([\n",
    "   transforms.Resize((224,224))])"
   ]
  },
  {
   "cell_type": "code",
   "execution_count": 3,
   "metadata": {
    "executionInfo": {
     "elapsed": 3154,
     "status": "ok",
     "timestamp": 1611611846220,
     "user": {
      "displayName": "Kacper Zagórski",
      "photoUrl": "",
      "userId": "01795916662025514346"
     },
     "user_tz": -60
    },
    "id": "2PNNscg_Zi4j"
   },
   "outputs": [],
   "source": [
    "train_data = datasets.ImageFolder('/content/drive/MyDrive/Colab Notebooks/dataset',transform=train_transform)\n",
    "test_data = datasets.ImageFolder('/content/drive/MyDrive/Colab Notebooks/dataset',transform=test_transform)"
   ]
  },
  {
   "cell_type": "code",
   "execution_count": 4,
   "metadata": {
    "executionInfo": {
     "elapsed": 3148,
     "status": "ok",
     "timestamp": 1611611846222,
     "user": {
      "displayName": "Kacper Zagórski",
      "photoUrl": "",
      "userId": "01795916662025514346"
     },
     "user_tz": -60
    },
    "id": "KQTLPtKwaGum"
   },
   "outputs": [],
   "source": [
    "np.random.seed(100)\n",
    "class_names = train_data.classes\n",
    "\n",
    "num_train = len(train_data)\n",
    "indices = list(range(num_train))\n",
    "split = int(np.floor(0.2 * num_train))\n",
    "\n",
    "np.random.seed(1)\n",
    "np.random.shuffle(indices)\n",
    "train_idx, test_idx = indices[split:], indices[:split]\n",
    "\n",
    "#balanced sampling (against the classes) + taking only the train_idx\n",
    "train_sampler = SubsetRandomSampler(train_idx) \n",
    "test_sampler = SubsetRandomSampler(test_idx)"
   ]
  },
  {
   "cell_type": "code",
   "execution_count": 5,
   "metadata": {
    "colab": {
     "base_uri": "https://localhost:8080/"
    },
    "executionInfo": {
     "elapsed": 3141,
     "status": "ok",
     "timestamp": 1611611846223,
     "user": {
      "displayName": "Kacper Zagórski",
      "photoUrl": "",
      "userId": "01795916662025514346"
     },
     "user_tz": -60
    },
    "id": "w9VZ5-R9aba_",
    "outputId": "a42cdc88-937c-4eaf-ba99-1743961959ce"
   },
   "outputs": [
    {
     "name": "stdout",
     "output_type": "stream",
     "text": [
      "3094\n"
     ]
    },
    {
     "data": {
      "text/plain": [
       "773"
      ]
     },
     "execution_count": 5,
     "metadata": {
      "tags": []
     },
     "output_type": "execute_result"
    }
   ],
   "source": [
    "print(len(train_idx))\n",
    "len(test_idx)"
   ]
  },
  {
   "cell_type": "code",
   "execution_count": 6,
   "metadata": {
    "executionInfo": {
     "elapsed": 3134,
     "status": "ok",
     "timestamp": 1611611846224,
     "user": {
      "displayName": "Kacper Zagórski",
      "photoUrl": "",
      "userId": "01795916662025514346"
     },
     "user_tz": -60
    },
    "id": "YwjESxc7b__L"
   },
   "outputs": [],
   "source": [
    "batch_size = 100\n",
    "workers = 0\n",
    "\n",
    "train_loader = torch.utils.data.DataLoader(\n",
    "    train_data, batch_size=batch_size, sampler=train_sampler, num_workers=workers)\n",
    "test_loader = torch.utils.data.DataLoader(\n",
    "    test_data, batch_size=batch_size, sampler=test_sampler, num_workers=workers)"
   ]
  },
  {
   "cell_type": "code",
   "execution_count": 7,
   "metadata": {
    "executionInfo": {
     "elapsed": 3130,
     "status": "ok",
     "timestamp": 1611611846226,
     "user": {
      "displayName": "Kacper Zagórski",
      "photoUrl": "",
      "userId": "01795916662025514346"
     },
     "user_tz": -60
    },
    "id": "l30_LBRa1kMu"
   },
   "outputs": [],
   "source": [
    "class ConvolutionalNetwork(nn.Module):\n",
    "    def __init__(self):\n",
    "        super().__init__()\n",
    "        \n",
    "        self.conv1 = nn.Conv2d(3, 6, 3, 1)\n",
    "        self.conv2 = nn.Conv2d(6, 12, 3, 1)\n",
    "        #(((200-2)/2) - 2)/2 = 48.5; zaokrąglone w dół\n",
    "        self.fc1 = nn.Linear(48*48*12, 200)\n",
    "        self.fc2 = nn.Linear(200, 80)\n",
    "        self.fc3 = nn.Linear(80, 2)\n",
    "\n",
    "    def forward(self, X):\n",
    "        X = F.relu(self.conv1(X)) # rectified linear unit - activation function\n",
    "        X = F.max_pool2d(X, 2, 2)\n",
    "        X = F.relu(self.conv2(X))\n",
    "        X = F.max_pool2d(X, 2, 2)\n",
    "        X = X.view(-1, 48*48*12)\n",
    "        X = F.relu(self.fc1(X))\n",
    "        X = F.relu(self.fc2(X))\n",
    "        X = self.fc3(X)\n",
    "        return F.log_softmax(X, dim=1) # converting logits to odds"
   ]
  },
  {
   "cell_type": "code",
   "execution_count": 8,
   "metadata": {
    "executionInfo": {
     "elapsed": 3317,
     "status": "ok",
     "timestamp": 1611611846420,
     "user": {
      "displayName": "Kacper Zagórski",
      "photoUrl": "",
      "userId": "01795916662025514346"
     },
     "user_tz": -60
    },
    "id": "Efy4uW2i1A-6"
   },
   "outputs": [],
   "source": [
    "CNNmodel = ConvolutionalNetwork()"
   ]
  },
  {
   "cell_type": "code",
   "execution_count": 9,
   "metadata": {
    "colab": {
     "base_uri": "https://localhost:8080/"
    },
    "executionInfo": {
     "elapsed": 3614,
     "status": "ok",
     "timestamp": 1611611846724,
     "user": {
      "displayName": "Kacper Zagórski",
      "photoUrl": "",
      "userId": "01795916662025514346"
     },
     "user_tz": -60
    },
    "id": "sO3X5Miz1JSa",
    "outputId": "87e60ac6-1f9e-4569-b696-58b03c677562"
   },
   "outputs": [
    {
     "data": {
      "text/plain": [
       "<All keys matched successfully>"
      ]
     },
     "execution_count": 9,
     "metadata": {
      "tags": []
     },
     "output_type": "execute_result"
    }
   ],
   "source": [
    "#ładowanie wag\n",
    "CNNmodel.load_state_dict(torch.load('/content/drive/MyDrive/Colab Notebooks/siec_od_0_pierwsza.pt'))"
   ]
  },
  {
   "cell_type": "code",
   "execution_count": 10,
   "metadata": {
    "colab": {
     "base_uri": "https://localhost:8080/"
    },
    "executionInfo": {
     "elapsed": 3605,
     "status": "ok",
     "timestamp": 1611611846725,
     "user": {
      "displayName": "Kacper Zagórski",
      "photoUrl": "",
      "userId": "01795916662025514346"
     },
     "user_tz": -60
    },
    "id": "ZGczRqVr1PqM",
    "outputId": "3391aefd-20f0-4734-fd8d-defda00991b9"
   },
   "outputs": [
    {
     "data": {
      "text/plain": [
       "ConvolutionalNetwork(\n",
       "  (conv1): Conv2d(3, 6, kernel_size=(3, 3), stride=(1, 1))\n",
       "  (conv2): Conv2d(6, 12, kernel_size=(3, 3), stride=(1, 1))\n",
       "  (fc1): Linear(in_features=27648, out_features=200, bias=True)\n",
       "  (fc2): Linear(in_features=200, out_features=80, bias=True)\n",
       "  (fc3): Linear(in_features=80, out_features=2, bias=True)\n",
       ")"
      ]
     },
     "execution_count": 10,
     "metadata": {
      "tags": []
     },
     "output_type": "execute_result"
    }
   ],
   "source": [
    "CNNmodel.eval()"
   ]
  },
  {
   "cell_type": "code",
   "execution_count": 11,
   "metadata": {
    "colab": {
     "base_uri": "https://localhost:8080/",
     "height": 109
    },
    "executionInfo": {
     "elapsed": 3954,
     "status": "ok",
     "timestamp": 1611611847084,
     "user": {
      "displayName": "Kacper Zagórski",
      "photoUrl": "",
      "userId": "01795916662025514346"
     },
     "user_tz": -60
    },
    "id": "cL_bGc9E5xBa",
    "outputId": "5bdd631a-561e-43cc-f7be-b4b8353313f0"
   },
   "outputs": [
    {
     "data": {
      "image/png": "[encoded data removed]",
      "text/plain": [
       "<PIL.JpegImagePlugin.JpegImageFile image mode=RGB size=66x92 at 0x7F9756F50358>"
      ]
     },
     "execution_count": 11,
     "metadata": {
      "tags": []
     },
     "output_type": "execute_result"
    }
   ],
   "source": [
    "from PIL import Image\n",
    "image = Image.open('/content/drive/MyDrive/Colab Notebooks/dataset/with_mask/0_0_0 copy 10.jpg')\n",
    "image"
   ]
  },
  {
   "cell_type": "code",
   "execution_count": 12,
   "metadata": {
    "executionInfo": {
     "elapsed": 3946,
     "status": "ok",
     "timestamp": 1611611847085,
     "user": {
      "displayName": "Kacper Zagórski",
      "photoUrl": "",
      "userId": "01795916662025514346"
     },
     "user_tz": -60
    },
    "id": "wUUcYrHFjjPw"
   },
   "outputs": [],
   "source": [
    "image_tensor = test_transform(image)\n",
    "image_tensor = image_tensor.unsqueeze(0)"
   ]
  },
  {
   "cell_type": "code",
   "execution_count": 13,
   "metadata": {
    "colab": {
     "base_uri": "https://localhost:8080/",
     "height": 68
    },
    "executionInfo": {
     "elapsed": 3939,
     "status": "ok",
     "timestamp": 1611611847086,
     "user": {
      "displayName": "Kacper Zagórski",
      "photoUrl": "",
      "userId": "01795916662025514346"
     },
     "user_tz": -60
    },
    "id": "iS0fC_gq2TQY",
    "outputId": "5dc34b23-1d4d-42bb-8a2b-77f9fc1a849d"
   },
   "outputs": [
    {
     "name": "stdout",
     "output_type": "stream",
     "text": [
      "tensor([[-9.0953e-05, -9.3053e+00]])\n",
      "tensor(0)\n"
     ]
    },
    {
     "data": {
      "application/vnd.google.colaboratory.intrinsic+json": {
       "type": "string"
      },
      "text/plain": [
       "'with_mask'"
      ]
     },
     "execution_count": 13,
     "metadata": {
      "tags": []
     },
     "output_type": "execute_result"
    }
   ],
   "source": [
    "with torch.no_grad():\n",
    "    output = CNNmodel(image_tensor)\n",
    "    print(output)\n",
    "pos = output[0].argmax()\n",
    "print(pos)\n",
    "class_names[pos]"
   ]
  },
  {
   "cell_type": "code",
   "execution_count": 14,
   "metadata": {
    "colab": {
     "base_uri": "https://localhost:8080/"
    },
    "executionInfo": {
     "elapsed": 69749,
     "status": "ok",
     "timestamp": 1611611912904,
     "user": {
      "displayName": "Kacper Zagórski",
      "photoUrl": "",
      "userId": "01795916662025514346"
     },
     "user_tz": -60
    },
    "id": "7rydFLoGm0YE",
    "outputId": "804d4253-5574-4eef-82a7-b090bc9f12e6"
   },
   "outputs": [
    {
     "name": "stderr",
     "output_type": "stream",
     "text": [
      "/usr/local/lib/python3.6/dist-packages/PIL/Image.py:932: UserWarning: Palette images with Transparency expressed in bytes should be converted to RGBA images\n",
      "  \"Palette images with Transparency expressed in bytes should be \"\n"
     ]
    }
   ],
   "source": [
    " class_list =[]\n",
    " for i, label in test_data:\n",
    "  image_tensor = i.unsqueeze(0) \n",
    "  with torch.no_grad():\n",
    "    output = CNNmodel(image_tensor)\n",
    "  pos = output[0].argmax()\n",
    "  class_list.append([class_names[pos], label])"
   ]
  },
  {
   "cell_type": "code",
   "execution_count": 21,
   "metadata": {
    "executionInfo": {
     "elapsed": 480,
     "status": "ok",
     "timestamp": 1611611979518,
     "user": {
      "displayName": "Kacper Zagórski",
      "photoUrl": "",
      "userId": "01795916662025514346"
     },
     "user_tz": -60
    },
    "id": "WLQVm4Yo6Ict"
   },
   "outputs": [],
   "source": [
    "df = pd.DataFrame(class_list, columns=['Real', 'Predicted'])"
   ]
  },
  {
   "cell_type": "code",
   "execution_count": 25,
   "metadata": {
    "executionInfo": {
     "elapsed": 501,
     "status": "ok",
     "timestamp": 1611612020599,
     "user": {
      "displayName": "Kacper Zagórski",
      "photoUrl": "",
      "userId": "01795916662025514346"
     },
     "user_tz": -60
    },
    "id": "6KlBvTH3Ln4f"
   },
   "outputs": [],
   "source": [
    "df.loc[df.Real == 'with_mask', \"Real\"] = 0\n",
    "df.loc[df.Real == 'without_mask', \"Real\"] = 1"
   ]
  },
  {
   "cell_type": "code",
   "execution_count": 26,
   "metadata": {
    "colab": {
     "base_uri": "https://localhost:8080/",
     "height": 392
    },
    "executionInfo": {
     "elapsed": 488,
     "status": "ok",
     "timestamp": 1611612022941,
     "user": {
      "displayName": "Kacper Zagórski",
      "photoUrl": "",
      "userId": "01795916662025514346"
     },
     "user_tz": -60
    },
    "id": "5JvZPbb3PyHu",
    "outputId": "51bb0d95-68ba-4536-b417-b19184914a3f"
   },
   "outputs": [
    {
     "data": {
      "text/html": [
       "<div>\n",
       "<style scoped>\n",
       "    .dataframe tbody tr th:only-of-type {\n",
       "        vertical-align: middle;\n",
       "    }\n",
       "\n",
       "    .dataframe tbody tr th {\n",
       "        vertical-align: top;\n",
       "    }\n",
       "\n",
       "    .dataframe thead th {\n",
       "        text-align: right;\n",
       "    }\n",
       "</style>\n",
       "<table border=\"1\" class=\"dataframe\">\n",
       "  <thead>\n",
       "    <tr style=\"text-align: right;\">\n",
       "      <th></th>\n",
       "      <th>Real</th>\n",
       "      <th>Predicted</th>\n",
       "    </tr>\n",
       "  </thead>\n",
       "  <tbody>\n",
       "    <tr>\n",
       "      <th>0</th>\n",
       "      <td>0</td>\n",
       "      <td>0</td>\n",
       "    </tr>\n",
       "    <tr>\n",
       "      <th>1</th>\n",
       "      <td>0</td>\n",
       "      <td>0</td>\n",
       "    </tr>\n",
       "    <tr>\n",
       "      <th>2</th>\n",
       "      <td>0</td>\n",
       "      <td>0</td>\n",
       "    </tr>\n",
       "    <tr>\n",
       "      <th>3</th>\n",
       "      <td>0</td>\n",
       "      <td>0</td>\n",
       "    </tr>\n",
       "    <tr>\n",
       "      <th>4</th>\n",
       "      <td>0</td>\n",
       "      <td>0</td>\n",
       "    </tr>\n",
       "    <tr>\n",
       "      <th>...</th>\n",
       "      <td>...</td>\n",
       "      <td>...</td>\n",
       "    </tr>\n",
       "    <tr>\n",
       "      <th>3862</th>\n",
       "      <td>1</td>\n",
       "      <td>1</td>\n",
       "    </tr>\n",
       "    <tr>\n",
       "      <th>3863</th>\n",
       "      <td>1</td>\n",
       "      <td>1</td>\n",
       "    </tr>\n",
       "    <tr>\n",
       "      <th>3864</th>\n",
       "      <td>1</td>\n",
       "      <td>1</td>\n",
       "    </tr>\n",
       "    <tr>\n",
       "      <th>3865</th>\n",
       "      <td>0</td>\n",
       "      <td>1</td>\n",
       "    </tr>\n",
       "    <tr>\n",
       "      <th>3866</th>\n",
       "      <td>0</td>\n",
       "      <td>1</td>\n",
       "    </tr>\n",
       "  </tbody>\n",
       "</table>\n",
       "<p>3867 rows × 2 columns</p>\n",
       "</div>"
      ],
      "text/plain": [
       "     Real  Predicted\n",
       "0       0          0\n",
       "1       0          0\n",
       "2       0          0\n",
       "3       0          0\n",
       "4       0          0\n",
       "...   ...        ...\n",
       "3862    1          1\n",
       "3863    1          1\n",
       "3864    1          1\n",
       "3865    0          1\n",
       "3866    0          1\n",
       "\n",
       "[3867 rows x 2 columns]"
      ]
     },
     "execution_count": 26,
     "metadata": {
      "tags": []
     },
     "output_type": "execute_result"
    }
   ],
   "source": [
    "df"
   ]
  },
  {
   "cell_type": "code",
   "execution_count": 27,
   "metadata": {
    "colab": {
     "base_uri": "https://localhost:8080/",
     "height": 278
    },
    "executionInfo": {
     "elapsed": 853,
     "status": "ok",
     "timestamp": 1611612024772,
     "user": {
      "displayName": "Kacper Zagórski",
      "photoUrl": "",
      "userId": "01795916662025514346"
     },
     "user_tz": -60
    },
    "id": "BvIV-SB0MI5r",
    "outputId": "265e4745-607c-4f08-e3ac-2f84d4d80bd9"
   },
   "outputs": [
    {
     "data": {
      "image/png": "[encoded data removed]",
      "text/plain": [
       "<Figure size 432x288 with 2 Axes>"
      ]
     },
     "metadata": {
      "tags": []
     },
     "output_type": "display_data"
    }
   ],
   "source": [
    "conf_matr =pd.crosstab(df[\"Real\"], df[\"Predicted\"], rownames=[\"Real\"], colnames=[\"Predicted\"])\n",
    "sn.set_style('darkgrid')\n",
    "sn.heatmap(conf_matr, annot=True, fmt='g')\n",
    "plt.show()"
   ]
  },
  {
   "cell_type": "code",
   "execution_count": 28,
   "metadata": {
    "executionInfo": {
     "elapsed": 426,
     "status": "ok",
     "timestamp": 1611612027810,
     "user": {
      "displayName": "Kacper Zagórski",
      "photoUrl": "",
      "userId": "01795916662025514346"
     },
     "user_tz": -60
    },
    "id": "fq_GsA7MN4nK"
   },
   "outputs": [],
   "source": [
    "real = df[\"Real\"].values.tolist()\n",
    "predicted = df[\"Predicted\"].values.tolist()"
   ]
  },
  {
   "cell_type": "code",
   "execution_count": 29,
   "metadata": {
    "executionInfo": {
     "elapsed": 747,
     "status": "ok",
     "timestamp": 1611612029092,
     "user": {
      "displayName": "Kacper Zagórski",
      "photoUrl": "",
      "userId": "01795916662025514346"
     },
     "user_tz": -60
    },
    "id": "l_B82AzQSGwz"
   },
   "outputs": [],
   "source": [
    "TPR = (conf_matr[0][0])/(conf_matr[0][0] + conf_matr[1][0])\n",
    "TNR = (conf_matr[1][1])/(conf_matr[1][1] + conf_matr[0][1])\n",
    "FPR = (conf_matr[0][1])/(conf_matr[0][1] + conf_matr[1][1])\n",
    "FNR = (conf_matr[1][0])/(conf_matr[1][0] + conf_matr[0][0])\n",
    "ACC = (conf_matr[0][0] + conf_matr[1][1])/(conf_matr[1][0] + conf_matr[1][1]+conf_matr[0][0] + conf_matr[0][1])"
   ]
  },
  {
   "cell_type": "code",
   "execution_count": 30,
   "metadata": {
    "executionInfo": {
     "elapsed": 501,
     "status": "ok",
     "timestamp": 1611612031135,
     "user": {
      "displayName": "Kacper Zagórski",
      "photoUrl": "",
      "userId": "01795916662025514346"
     },
     "user_tz": -60
    },
    "id": "6IWMBP70fdHn"
   },
   "outputs": [],
   "source": [
    "stats = pd.DataFrame([[\"TPR\",TPR],[\"TNR\",TNR],[\"FPR\",FPR],[\"FNR\",FNR],[\"ACC\",ACC]], columns=[\"Stats\",\"Value\"])"
   ]
  },
  {
   "cell_type": "code",
   "execution_count": 31,
   "metadata": {
    "colab": {
     "base_uri": "https://localhost:8080/",
     "height": 333
    },
    "executionInfo": {
     "elapsed": 585,
     "status": "ok",
     "timestamp": 1611612032196,
     "user": {
      "displayName": "Kacper Zagórski",
      "photoUrl": "",
      "userId": "01795916662025514346"
     },
     "user_tz": -60
    },
    "id": "PZ2IzolYWyhW",
    "outputId": "7d2cee0a-bfc7-4907-aa71-eba6b4df3183"
   },
   "outputs": [
    {
     "name": "stderr",
     "output_type": "stream",
     "text": [
      "/usr/local/lib/python3.6/dist-packages/seaborn/_decorators.py:43: FutureWarning: Pass the following variables as keyword args: x, y. From version 0.12, the only valid positional argument will be `data`, and passing other arguments without an explicit keyword will result in an error or misinterpretation.\n",
      "  FutureWarning\n"
     ]
    },
    {
     "data": {
      "image/png": "[encoded data removed]",
      "text/plain": [
       "<Figure size 432x288 with 1 Axes>"
      ]
     },
     "metadata": {
      "tags": []
     },
     "output_type": "display_data"
    }
   ],
   "source": [
    "sn.barplot(stats[\"Stats\"], stats[\"Value\"],)\n",
    "plt.show()"
   ]
  },
  {
   "cell_type": "code",
   "execution_count": null,
   "metadata": {
    "executionInfo": {
     "elapsed": 70174,
     "status": "aborted",
     "timestamp": 1611611913393,
     "user": {
      "displayName": "Kacper Zagórski",
      "photoUrl": "",
      "userId": "01795916662025514346"
     },
     "user_tz": -60
    },
    "id": "QxWNMlrbgjlX"
   },
   "outputs": [],
   "source": []
  }
 ],
 "metadata": {
  "colab": {
   "authorship_tag": "ABX9TyMhhZeIUFKh2c2xUcBlAQYM",
   "collapsed_sections": [],
   "mount_file_id": "1neENvaCdSB7_Q_sjCHFdNnzfQywnaoYK",
   "name": "model.eval",
   "provenance": []
  },
  "kernelspec": {
   "display_name": "Python 3",
   "language": "python",
   "name": "python3"
  },
  "language_info": {
   "codemirror_mode": {
    "name": "ipython",
    "version": 3
   },
   "file_extension": ".py",
   "mimetype": "text/x-python",
   "name": "python",
   "nbconvert_exporter": "python",
   "pygments_lexer": "ipython3",
   "version": "3.6.8"
  }
 },
 "nbformat": 4,
 "nbformat_minor": 1
}
